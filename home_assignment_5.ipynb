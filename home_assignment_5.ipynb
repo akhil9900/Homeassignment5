{
  "nbformat": 4,
  "nbformat_minor": 0,
  "metadata": {
    "colab": {
      "provenance": [],
      "authorship_tag": "ABX9TyOG6E4QlFmrGR6m34f5OsGK",
      "include_colab_link": true
    },
    "kernelspec": {
      "name": "python3",
      "display_name": "Python 3"
    },
    "language_info": {
      "name": "python"
    }
  },
  "cells": [
    {
      "cell_type": "markdown",
      "metadata": {
        "id": "view-in-github",
        "colab_type": "text"
      },
      "source": [
        "<a href=\"https://colab.research.google.com/github/akhil9900/Homeassignment5/blob/main/home_assignment_5.ipynb\" target=\"_parent\"><img src=\"https://colab.research.google.com/assets/colab-badge.svg\" alt=\"Open In Colab\"/></a>"
      ]
    },
    {
      "cell_type": "code",
      "execution_count": 1,
      "metadata": {
        "colab": {
          "base_uri": "https://localhost:8080/"
        },
        "id": "OIfif3tJMCJq",
        "outputId": "a3857d2d-9b71-4975-978b-d280d96e8813"
      },
      "outputs": [
        {
          "output_type": "stream",
          "name": "stderr",
          "text": [
            "100%|██████████| 9.91M/9.91M [00:01<00:00, 5.97MB/s]\n",
            "100%|██████████| 28.9k/28.9k [00:00<00:00, 159kB/s]\n",
            "100%|██████████| 1.65M/1.65M [00:01<00:00, 1.50MB/s]\n",
            "100%|██████████| 4.54k/4.54k [00:00<00:00, 5.19MB/s]\n"
          ]
        },
        {
          "output_type": "stream",
          "name": "stdout",
          "text": [
            "Epoch 0, Loss D: 0.9679704904556274, Loss G: 1.0020819902420044\n",
            "Epoch 50, Loss D: 0.8153786659240723, Loss G: 1.4780302047729492\n",
            "Epoch 100, Loss D: 0.48325109481811523, Loss G: 2.940903663635254\n"
          ]
        }
      ],
      "source": [
        "#question 3\n",
        "\n",
        "import torch\n",
        "import torch.nn as nn\n",
        "import torch.optim as optim\n",
        "from torchvision import datasets, transforms\n",
        "from torch.utils.data import DataLoader\n",
        "from torchvision.utils import save_image\n",
        "import os\n",
        "\n",
        "# Set up\n",
        "device = torch.device(\"cuda\" if torch.cuda.is_available() else \"cpu\")\n",
        "latent_dim = 100\n",
        "image_size = 28*28\n",
        "\n",
        "# Generator\n",
        "class Generator(nn.Module):\n",
        "    def __init__(self):\n",
        "        super().__init__()\n",
        "        self.model = nn.Sequential(\n",
        "            nn.Linear(latent_dim, 256),\n",
        "            nn.ReLU(),\n",
        "            nn.Linear(256, image_size),\n",
        "            nn.Tanh()\n",
        "        )\n",
        "    def forward(self, z):\n",
        "        return self.model(z)\n",
        "\n",
        "# Discriminator\n",
        "class Discriminator(nn.Module):\n",
        "    def __init__(self):\n",
        "        super().__init__()\n",
        "        self.model = nn.Sequential(\n",
        "            nn.Linear(image_size, 256),\n",
        "            nn.LeakyReLU(0.2),\n",
        "            nn.Linear(256, 1),\n",
        "            nn.Sigmoid()\n",
        "        )\n",
        "    def forward(self, x):\n",
        "        return self.model(x)\n",
        "\n",
        "G = Generator().to(device)\n",
        "D = Discriminator().to(device)\n",
        "\n",
        "# Data loader\n",
        "transform = transforms.Compose([\n",
        "    transforms.ToTensor(),\n",
        "    transforms.Normalize((0.5,), (0.5,))\n",
        "])\n",
        "train_loader = DataLoader(\n",
        "    datasets.MNIST('.', download=True, transform=transform),\n",
        "    batch_size=64, shuffle=True\n",
        ")\n",
        "\n",
        "criterion = nn.BCELoss()\n",
        "optimizer_G = optim.Adam(G.parameters(), lr=0.0002)\n",
        "optimizer_D = optim.Adam(D.parameters(), lr=0.0002)\n",
        "\n",
        "# Training loop\n",
        "os.makedirs(\"generated_images\", exist_ok=True)\n",
        "for epoch in range(101):\n",
        "    for batch, (real_imgs, _) in enumerate(train_loader):\n",
        "        real_imgs = real_imgs.view(-1, 28*28).to(device)\n",
        "        batch_size = real_imgs.size(0)\n",
        "\n",
        "        # Real and fake labels\n",
        "        real = torch.ones(batch_size, 1).to(device)\n",
        "        fake = torch.zeros(batch_size, 1).to(device)\n",
        "\n",
        "        # Train Discriminator\n",
        "        z = torch.randn(batch_size, latent_dim).to(device)\n",
        "        fake_imgs = G(z)\n",
        "        loss_D = criterion(D(real_imgs), real) + criterion(D(fake_imgs.detach()), fake)\n",
        "        optimizer_D.zero_grad()\n",
        "        loss_D.backward()\n",
        "        optimizer_D.step()\n",
        "\n",
        "        # Train Generator\n",
        "        z = torch.randn(batch_size, latent_dim).to(device)\n",
        "        loss_G = criterion(D(G(z)), real)\n",
        "        optimizer_G.zero_grad()\n",
        "        loss_G.backward()\n",
        "        optimizer_G.step()\n",
        "\n",
        "    if epoch % 50 == 0 or epoch == 0:\n",
        "        print(f\"Epoch {epoch}, Loss D: {loss_D.item()}, Loss G: {loss_G.item()}\")\n",
        "        save_image(G(z).view(-1, 1, 28, 28), f\"generated_images/epoch_{epoch}.png\", normalize=True)\n"
      ]
    }
  ]
}