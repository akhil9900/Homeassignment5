{
  "nbformat": 4,
  "nbformat_minor": 0,
  "metadata": {
    "colab": {
      "provenance": [],
      "authorship_tag": "ABX9TyPBLpZOuAPEeSsfs+k6vWbk",
      "include_colab_link": true
    },
    "kernelspec": {
      "name": "python3",
      "display_name": "Python 3"
    },
    "language_info": {
      "name": "python"
    }
  },
  "cells": [
    {
      "cell_type": "markdown",
      "metadata": {
        "id": "view-in-github",
        "colab_type": "text"
      },
      "source": [
        "<a href=\"https://colab.research.google.com/github/akhil9900/Homeassignment5/blob/main/home_assignment_5.ipynb\" target=\"_parent\"><img src=\"https://colab.research.google.com/assets/colab-badge.svg\" alt=\"Open In Colab\"/></a>"
      ]
    },
    {
      "cell_type": "code",
      "execution_count": 1,
      "metadata": {
        "colab": {
          "base_uri": "https://localhost:8080/"
        },
        "id": "OIfif3tJMCJq",
        "outputId": "a3857d2d-9b71-4975-978b-d280d96e8813"
      },
      "outputs": [
        {
          "output_type": "stream",
          "name": "stderr",
          "text": [
            "100%|██████████| 9.91M/9.91M [00:01<00:00, 5.97MB/s]\n",
            "100%|██████████| 28.9k/28.9k [00:00<00:00, 159kB/s]\n",
            "100%|██████████| 1.65M/1.65M [00:01<00:00, 1.50MB/s]\n",
            "100%|██████████| 4.54k/4.54k [00:00<00:00, 5.19MB/s]\n"
          ]
        },
        {
          "output_type": "stream",
          "name": "stdout",
          "text": [
            "Epoch 0, Loss D: 0.9679704904556274, Loss G: 1.0020819902420044\n",
            "Epoch 50, Loss D: 0.8153786659240723, Loss G: 1.4780302047729492\n",
            "Epoch 100, Loss D: 0.48325109481811523, Loss G: 2.940903663635254\n"
          ]
        }
      ],
      "source": [
        "#question 3\n",
        "\n",
        "import torch\n",
        "import torch.nn as nn\n",
        "import torch.optim as optim\n",
        "from torchvision import datasets, transforms\n",
        "from torch.utils.data import DataLoader\n",
        "from torchvision.utils import save_image\n",
        "import os\n",
        "\n",
        "# Set up\n",
        "device = torch.device(\"cuda\" if torch.cuda.is_available() else \"cpu\")\n",
        "latent_dim = 100\n",
        "image_size = 28*28\n",
        "\n",
        "# Generator\n",
        "class Generator(nn.Module):\n",
        "    def __init__(self):\n",
        "        super().__init__()\n",
        "        self.model = nn.Sequential(\n",
        "            nn.Linear(latent_dim, 256),\n",
        "            nn.ReLU(),\n",
        "            nn.Linear(256, image_size),\n",
        "            nn.Tanh()\n",
        "        )\n",
        "    def forward(self, z):\n",
        "        return self.model(z)\n",
        "\n",
        "# Discriminator\n",
        "class Discriminator(nn.Module):\n",
        "    def __init__(self):\n",
        "        super().__init__()\n",
        "        self.model = nn.Sequential(\n",
        "            nn.Linear(image_size, 256),\n",
        "            nn.LeakyReLU(0.2),\n",
        "            nn.Linear(256, 1),\n",
        "            nn.Sigmoid()\n",
        "        )\n",
        "    def forward(self, x):\n",
        "        return self.model(x)\n",
        "\n",
        "G = Generator().to(device)\n",
        "D = Discriminator().to(device)\n",
        "\n",
        "# Data loader\n",
        "transform = transforms.Compose([\n",
        "    transforms.ToTensor(),\n",
        "    transforms.Normalize((0.5,), (0.5,))\n",
        "])\n",
        "train_loader = DataLoader(\n",
        "    datasets.MNIST('.', download=True, transform=transform),\n",
        "    batch_size=64, shuffle=True\n",
        ")\n",
        "\n",
        "criterion = nn.BCELoss()\n",
        "optimizer_G = optim.Adam(G.parameters(), lr=0.0002)\n",
        "optimizer_D = optim.Adam(D.parameters(), lr=0.0002)\n",
        "\n",
        "# Training loop\n",
        "os.makedirs(\"generated_images\", exist_ok=True)\n",
        "for epoch in range(101):\n",
        "    for batch, (real_imgs, _) in enumerate(train_loader):\n",
        "        real_imgs = real_imgs.view(-1, 28*28).to(device)\n",
        "        batch_size = real_imgs.size(0)\n",
        "\n",
        "        # Real and fake labels\n",
        "        real = torch.ones(batch_size, 1).to(device)\n",
        "        fake = torch.zeros(batch_size, 1).to(device)\n",
        "\n",
        "        # Train Discriminator\n",
        "        z = torch.randn(batch_size, latent_dim).to(device)\n",
        "        fake_imgs = G(z)\n",
        "        loss_D = criterion(D(real_imgs), real) + criterion(D(fake_imgs.detach()), fake)\n",
        "        optimizer_D.zero_grad()\n",
        "        loss_D.backward()\n",
        "        optimizer_D.step()\n",
        "\n",
        "        # Train Generator\n",
        "        z = torch.randn(batch_size, latent_dim).to(device)\n",
        "        loss_G = criterion(D(G(z)), real)\n",
        "        optimizer_G.zero_grad()\n",
        "        loss_G.backward()\n",
        "        optimizer_G.step()\n",
        "\n",
        "    if epoch % 50 == 0 or epoch == 0:\n",
        "        print(f\"Epoch {epoch}, Loss D: {loss_D.item()}, Loss G: {loss_G.item()}\")\n",
        "        save_image(G(z).view(-1, 1, 28, 28), f\"generated_images/epoch_{epoch}.png\", normalize=True)\n"
      ]
    },
    {
      "cell_type": "code",
      "source": [
        "#question 4\n",
        "\n",
        "import pandas as pd\n",
        "import numpy as np\n",
        "from sklearn.feature_extraction.text import CountVectorizer\n",
        "from sklearn.model_selection import train_test_split\n",
        "from sklearn.linear_model import LogisticRegression\n",
        "from sklearn.metrics import accuracy_score, confusion_matrix\n",
        "import seaborn as sns\n",
        "import matplotlib.pyplot as plt\n",
        "\n",
        "# Sample dataset (10 positive, 10 negative, 3 UC Berkeley references)\n",
        "data = {\n",
        "    'review': [\n",
        "        \"I love this movie!\", \"Fantastic acting!\", \"Great story and direction.\",\n",
        "        \"Absolutely loved it\", \"Best movie ever!\", \"Highly recommended!\",\n",
        "        \"Really emotional and moving\", \"What a great film!\", \"Loved the characters\",\n",
        "        \"UC Berkeley is a great place\",\n",
        "        \"Terrible movie\", \"Hated the plot\", \"Very boring\", \"Disappointing\",\n",
        "        \"Worst film I have seen\", \"Don't waste your time\", \"Not good\",\n",
        "        \"UC Berkeley ruined it\", \"UC Berkeley makes bad decisions\", \"Poor direction\"\n",
        "    ],\n",
        "    'label': [1,1,1,1,1,1,1,1,1,1, 0,0,0,0,0,0,0,0,0,0]\n",
        "}\n",
        "\n",
        "df = pd.DataFrame(data)\n",
        "\n",
        "# Split into train/test\n",
        "X_train, X_test, y_train, y_test = train_test_split(df['review'], df['label'], test_size=0.3, random_state=42)\n",
        "\n",
        "# Vectorize text\n",
        "vectorizer = CountVectorizer()\n",
        "X_train_vec = vectorizer.fit_transform(X_train)\n",
        "X_test_vec = vectorizer.transform(X_test)\n",
        "\n",
        "# Train classifier\n",
        "model = LogisticRegression()\n",
        "model.fit(X_train_vec, y_train)\n",
        "y_pred = model.predict(X_test_vec)\n",
        "\n",
        "# Before poisoning\n",
        "print(\"Accuracy before poisoning:\", accuracy_score(y_test, y_pred))\n",
        "cm_before = confusion_matrix(y_test, y_pred)\n",
        "\n",
        "# Poisoning: flip labels of UC Berkeley mentions in training data\n",
        "poison_mask = X_train.str.contains(\"UC Berkeley\", case=False)\n",
        "y_train_poisoned = y_train.copy()\n",
        "y_train_poisoned[poison_mask] = 1 - y_train_poisoned[poison_mask]  # Flip 0 to 1 or 1 to 0\n",
        "\n",
        "# Retrain with poisoned data\n",
        "model_poisoned = LogisticRegression()\n",
        "model_poisoned.fit(X_train_vec, y_train_poisoned)\n",
        "y_pred_poisoned = model_poisoned.predict(X_test_vec)\n",
        "\n",
        "# After poisoning\n",
        "print(\"Accuracy after poisoning:\", accuracy_score(y_test, y_pred_poisoned))\n",
        "cm_after = confusion_matrix(y_test, y_pred_poisoned)\n",
        "\n",
        "# Plot confusion matrices\n",
        "fig, axs = plt.subplots(1, 2, figsize=(10, 4))\n",
        "sns.heatmap(cm_before, annot=True, fmt='d', ax=axs[0], cmap='Blues')\n",
        "axs[0].set_title(\"Before Poisoning\")\n",
        "axs[0].set_xlabel(\"Predicted\")\n",
        "axs[0].set_ylabel(\"Actual\")\n",
        "\n",
        "sns.heatmap(cm_after, annot=True, fmt='d', ax=axs[1], cmap='Reds')\n",
        "axs[1].set_title(\"After Poisoning\")\n",
        "axs[1].set_xlabel(\"Predicted\")\n",
        "axs[1].set_ylabel(\"Actual\")\n",
        "\n",
        "plt.tight_layout()\n",
        "plt.show()\n"
      ],
      "metadata": {
        "colab": {
          "base_uri": "https://localhost:8080/",
          "height": 443
        },
        "id": "CrxQvoWNWjoe",
        "outputId": "f370ada0-42ae-4183-812e-7b07732b1480"
      },
      "execution_count": 2,
      "outputs": [
        {
          "output_type": "stream",
          "name": "stdout",
          "text": [
            "Accuracy before poisoning: 0.3333333333333333\n",
            "Accuracy after poisoning: 0.3333333333333333\n"
          ]
        },
        {
          "output_type": "display_data",
          "data": {
            "text/plain": [
              "<Figure size 1000x400 with 4 Axes>"
            ],
            "image/png": "[encoded data removed]"
          },
          "metadata": {}
        }
      ]
    }
  ]
}